{
 "cells": [
  {
   "cell_type": "code",
   "execution_count": 1,
   "id": "6daa0235",
   "metadata": {
    "_cell_guid": "a0889afe-fe2c-4e7b-b25d-12f51dfa8a71",
    "_uuid": "6f107d44-984e-4a87-beb0-0dade7c22f5e",
    "collapsed": false,
    "execution": {
     "iopub.execute_input": "2025-04-21T03:12:26.213238Z",
     "iopub.status.busy": "2025-04-21T03:12:26.212900Z",
     "iopub.status.idle": "2025-04-21T03:12:29.736097Z",
     "shell.execute_reply": "2025-04-21T03:12:29.734862Z"
    },
    "jupyter": {
     "outputs_hidden": false
    },
    "papermill": {
     "duration": 3.529452,
     "end_time": "2025-04-21T03:12:29.737843",
     "exception": false,
     "start_time": "2025-04-21T03:12:26.208391",
     "status": "completed"
    },
    "tags": []
   },
   "outputs": [
    {
     "name": "stdout",
     "output_type": "stream",
     "text": [
      "/kaggle/input/titanic/train.csv\n",
      "/kaggle/input/titanic/test.csv\n",
      "/kaggle/input/titanic/gender_submission.csv\n"
     ]
    }
   ],
   "source": [
    "import numpy as np \n",
    "import pandas as pd \n",
    "import matplotlib.pyplot as plt\n",
    "import seaborn as sns\n",
    "\n",
    "import os\n",
    "for dirname, _, filenames in os.walk('/kaggle/input'):\n",
    "    for filename in filenames:\n",
    "        print(os.path.join(dirname, filename))"
   ]
  },
  {
   "cell_type": "code",
   "execution_count": 2,
   "id": "b026fbe8",
   "metadata": {
    "_cell_guid": "5e3dfcee-9416-4fe2-90b8-5049328d21ce",
    "_uuid": "6fc6a141-b387-4da5-b7f7-d79d23dd2007",
    "collapsed": false,
    "execution": {
     "iopub.execute_input": "2025-04-21T03:12:29.745220Z",
     "iopub.status.busy": "2025-04-21T03:12:29.744737Z",
     "iopub.status.idle": "2025-04-21T03:12:29.889119Z",
     "shell.execute_reply": "2025-04-21T03:12:29.888103Z"
    },
    "jupyter": {
     "outputs_hidden": false
    },
    "papermill": {
     "duration": 0.149429,
     "end_time": "2025-04-21T03:12:29.890558",
     "exception": false,
     "start_time": "2025-04-21T03:12:29.741129",
     "status": "completed"
    },
    "tags": []
   },
   "outputs": [
    {
     "data": {
      "text/html": [
       "<div>\n",
       "<style scoped>\n",
       "    .dataframe tbody tr th:only-of-type {\n",
       "        vertical-align: middle;\n",
       "    }\n",
       "\n",
       "    .dataframe tbody tr th {\n",
       "        vertical-align: top;\n",
       "    }\n",
       "\n",
       "    .dataframe thead th {\n",
       "        text-align: right;\n",
       "    }\n",
       "</style>\n",
       "<table border=\"1\" class=\"dataframe\">\n",
       "  <thead>\n",
       "    <tr style=\"text-align: right;\">\n",
       "      <th></th>\n",
       "      <th>PassengerId</th>\n",
       "      <th>Survived</th>\n",
       "      <th>Pclass</th>\n",
       "      <th>Name</th>\n",
       "      <th>Sex</th>\n",
       "      <th>Age</th>\n",
       "      <th>SibSp</th>\n",
       "      <th>Parch</th>\n",
       "      <th>Ticket</th>\n",
       "      <th>Fare</th>\n",
       "      <th>Cabin</th>\n",
       "      <th>Embarked</th>\n",
       "    </tr>\n",
       "  </thead>\n",
       "  <tbody>\n",
       "    <tr>\n",
       "      <th>0</th>\n",
       "      <td>1</td>\n",
       "      <td>0</td>\n",
       "      <td>3</td>\n",
       "      <td>Braund, Mr. Owen Harris</td>\n",
       "      <td>male</td>\n",
       "      <td>22.0</td>\n",
       "      <td>1</td>\n",
       "      <td>0</td>\n",
       "      <td>A/5 21171</td>\n",
       "      <td>7.2500</td>\n",
       "      <td>NaN</td>\n",
       "      <td>S</td>\n",
       "    </tr>\n",
       "    <tr>\n",
       "      <th>1</th>\n",
       "      <td>2</td>\n",
       "      <td>1</td>\n",
       "      <td>1</td>\n",
       "      <td>Cumings, Mrs. John Bradley (Florence Briggs Th...</td>\n",
       "      <td>female</td>\n",
       "      <td>38.0</td>\n",
       "      <td>1</td>\n",
       "      <td>0</td>\n",
       "      <td>PC 17599</td>\n",
       "      <td>71.2833</td>\n",
       "      <td>C85</td>\n",
       "      <td>C</td>\n",
       "    </tr>\n",
       "    <tr>\n",
       "      <th>2</th>\n",
       "      <td>3</td>\n",
       "      <td>1</td>\n",
       "      <td>3</td>\n",
       "      <td>Heikkinen, Miss. Laina</td>\n",
       "      <td>female</td>\n",
       "      <td>26.0</td>\n",
       "      <td>0</td>\n",
       "      <td>0</td>\n",
       "      <td>STON/O2. 3101282</td>\n",
       "      <td>7.9250</td>\n",
       "      <td>NaN</td>\n",
       "      <td>S</td>\n",
       "    </tr>\n",
       "    <tr>\n",
       "      <th>3</th>\n",
       "      <td>4</td>\n",
       "      <td>1</td>\n",
       "      <td>1</td>\n",
       "      <td>Futrelle, Mrs. Jacques Heath (Lily May Peel)</td>\n",
       "      <td>female</td>\n",
       "      <td>35.0</td>\n",
       "      <td>1</td>\n",
       "      <td>0</td>\n",
       "      <td>113803</td>\n",
       "      <td>53.1000</td>\n",
       "      <td>C123</td>\n",
       "      <td>S</td>\n",
       "    </tr>\n",
       "    <tr>\n",
       "      <th>4</th>\n",
       "      <td>5</td>\n",
       "      <td>0</td>\n",
       "      <td>3</td>\n",
       "      <td>Allen, Mr. William Henry</td>\n",
       "      <td>male</td>\n",
       "      <td>35.0</td>\n",
       "      <td>0</td>\n",
       "      <td>0</td>\n",
       "      <td>373450</td>\n",
       "      <td>8.0500</td>\n",
       "      <td>NaN</td>\n",
       "      <td>S</td>\n",
       "    </tr>\n",
       "  </tbody>\n",
       "</table>\n",
       "</div>"
      ],
      "text/plain": [
       "   PassengerId  Survived  Pclass  \\\n",
       "0            1         0       3   \n",
       "1            2         1       1   \n",
       "2            3         1       3   \n",
       "3            4         1       1   \n",
       "4            5         0       3   \n",
       "\n",
       "                                                Name     Sex   Age  SibSp  \\\n",
       "0                            Braund, Mr. Owen Harris    male  22.0      1   \n",
       "1  Cumings, Mrs. John Bradley (Florence Briggs Th...  female  38.0      1   \n",
       "2                             Heikkinen, Miss. Laina  female  26.0      0   \n",
       "3       Futrelle, Mrs. Jacques Heath (Lily May Peel)  female  35.0      1   \n",
       "4                           Allen, Mr. William Henry    male  35.0      0   \n",
       "\n",
       "   Parch            Ticket     Fare Cabin Embarked  \n",
       "0      0         A/5 21171   7.2500   NaN        S  \n",
       "1      0          PC 17599  71.2833   C85        C  \n",
       "2      0  STON/O2. 3101282   7.9250   NaN        S  \n",
       "3      0            113803  53.1000  C123        S  \n",
       "4      0            373450   8.0500   NaN        S  "
      ]
     },
     "execution_count": 2,
     "metadata": {},
     "output_type": "execute_result"
    }
   ],
   "source": [
    "train_data = pd.read_csv(\"/kaggle/input/titanic/train.csv\")\n",
    "test_data = pd.read_csv(\"/kaggle/input/titanic/test.csv\")\n",
    "train_data.head()"
   ]
  },
  {
   "cell_type": "code",
   "execution_count": 3,
   "id": "2244bd80",
   "metadata": {
    "execution": {
     "iopub.execute_input": "2025-04-21T03:12:29.897261Z",
     "iopub.status.busy": "2025-04-21T03:12:29.896917Z",
     "iopub.status.idle": "2025-04-21T03:12:29.904960Z",
     "shell.execute_reply": "2025-04-21T03:12:29.904183Z"
    },
    "papermill": {
     "duration": 0.01284,
     "end_time": "2025-04-21T03:12:29.906268",
     "exception": false,
     "start_time": "2025-04-21T03:12:29.893428",
     "status": "completed"
    },
    "tags": []
   },
   "outputs": [
    {
     "data": {
      "text/plain": [
       "PassengerId      0\n",
       "Survived         0\n",
       "Pclass           0\n",
       "Name             0\n",
       "Sex              0\n",
       "Age            177\n",
       "SibSp            0\n",
       "Parch            0\n",
       "Ticket           0\n",
       "Fare             0\n",
       "Cabin          687\n",
       "Embarked         2\n",
       "dtype: int64"
      ]
     },
     "execution_count": 3,
     "metadata": {},
     "output_type": "execute_result"
    }
   ],
   "source": [
    "train_data.isnull().sum()"
   ]
  },
  {
   "cell_type": "code",
   "execution_count": 4,
   "id": "1facd5e2",
   "metadata": {
    "execution": {
     "iopub.execute_input": "2025-04-21T03:12:29.913227Z",
     "iopub.status.busy": "2025-04-21T03:12:29.912877Z",
     "iopub.status.idle": "2025-04-21T03:12:29.925775Z",
     "shell.execute_reply": "2025-04-21T03:12:29.924948Z"
    },
    "papermill": {
     "duration": 0.018074,
     "end_time": "2025-04-21T03:12:29.927307",
     "exception": false,
     "start_time": "2025-04-21T03:12:29.909233",
     "status": "completed"
    },
    "tags": []
   },
   "outputs": [],
   "source": [
    "train_data = train_data.drop(columns=['PassengerId', 'Name', 'Ticket', 'Cabin'], errors='ignore')"
   ]
  },
  {
   "cell_type": "code",
   "execution_count": 5,
   "id": "854d0241",
   "metadata": {
    "execution": {
     "iopub.execute_input": "2025-04-21T03:12:29.933865Z",
     "iopub.status.busy": "2025-04-21T03:12:29.933542Z",
     "iopub.status.idle": "2025-04-21T03:12:29.940424Z",
     "shell.execute_reply": "2025-04-21T03:12:29.939403Z"
    },
    "papermill": {
     "duration": 0.01169,
     "end_time": "2025-04-21T03:12:29.941817",
     "exception": false,
     "start_time": "2025-04-21T03:12:29.930127",
     "status": "completed"
    },
    "tags": []
   },
   "outputs": [
    {
     "name": "stdout",
     "output_type": "stream",
     "text": [
      "% of women who survived: 0.7420382165605095\n"
     ]
    }
   ],
   "source": [
    "women = train_data.loc[train_data.Sex == 'female'][\"Survived\"]\n",
    "rate_women = sum(women)/len(women)\n",
    "\n",
    "print(\"% of women who survived:\", rate_women)"
   ]
  },
  {
   "cell_type": "code",
   "execution_count": 6,
   "id": "aeff994b",
   "metadata": {
    "execution": {
     "iopub.execute_input": "2025-04-21T03:12:29.949411Z",
     "iopub.status.busy": "2025-04-21T03:12:29.948506Z",
     "iopub.status.idle": "2025-04-21T03:12:29.955594Z",
     "shell.execute_reply": "2025-04-21T03:12:29.954780Z"
    },
    "papermill": {
     "duration": 0.01202,
     "end_time": "2025-04-21T03:12:29.956833",
     "exception": false,
     "start_time": "2025-04-21T03:12:29.944813",
     "status": "completed"
    },
    "tags": []
   },
   "outputs": [
    {
     "name": "stdout",
     "output_type": "stream",
     "text": [
      "% of men who survived: 0.18890814558058924\n"
     ]
    }
   ],
   "source": [
    "men = train_data.loc[train_data.Sex == 'male'][\"Survived\"]\n",
    "rate_men = sum(men)/len(men)\n",
    "\n",
    "print(\"% of men who survived:\", rate_men)"
   ]
  },
  {
   "cell_type": "code",
   "execution_count": 7,
   "id": "39e73444",
   "metadata": {
    "execution": {
     "iopub.execute_input": "2025-04-21T03:12:29.965270Z",
     "iopub.status.busy": "2025-04-21T03:12:29.964915Z",
     "iopub.status.idle": "2025-04-21T03:12:30.217992Z",
     "shell.execute_reply": "2025-04-21T03:12:30.216958Z"
    },
    "papermill": {
     "duration": 0.259647,
     "end_time": "2025-04-21T03:12:30.219565",
     "exception": false,
     "start_time": "2025-04-21T03:12:29.959918",
     "status": "completed"
    },
    "tags": []
   },
   "outputs": [
    {
     "data": {
      "image/png": "[encoded data removed]",
      "text/plain": [
       "<Figure size 640x480 with 1 Axes>"
      ]
     },
     "metadata": {},
     "output_type": "display_data"
    }
   ],
   "source": [
    "# Plot Survival Rate by Sex\n",
    "survival_by_sex = train_data.groupby('Sex')['Survived'].mean()\n",
    "labels = ['Female','Male']\n",
    "plt.bar(labels, survival_by_sex)\n",
    "plt.title('Survival Rate by Sex')\n",
    "plt.ylabel('Survival Rate')\n",
    "plt.show()"
   ]
  },
  {
   "cell_type": "code",
   "execution_count": 8,
   "id": "11fdcc4a",
   "metadata": {
    "execution": {
     "iopub.execute_input": "2025-04-21T03:12:30.228053Z",
     "iopub.status.busy": "2025-04-21T03:12:30.227244Z",
     "iopub.status.idle": "2025-04-21T03:12:30.241368Z",
     "shell.execute_reply": "2025-04-21T03:12:30.240419Z"
    },
    "papermill": {
     "duration": 0.020197,
     "end_time": "2025-04-21T03:12:30.243086",
     "exception": false,
     "start_time": "2025-04-21T03:12:30.222889",
     "status": "completed"
    },
    "tags": []
   },
   "outputs": [],
   "source": [
    "features = ['Pclass', 'Sex', 'SibSp', 'Parch']\n",
    "X = pd.get_dummies(train_data[features])\n",
    "X_test = pd.get_dummies(test_data[features])\n",
    "\n",
    "y = train_data['Survived']"
   ]
  },
  {
   "cell_type": "code",
   "execution_count": 9,
   "id": "82e8a576",
   "metadata": {
    "_cell_guid": "8641f163-7a42-48b0-86c8-f69951a9331c",
    "_uuid": "9abcf632-dfb8-457a-a014-e66ba0985cd9",
    "collapsed": false,
    "execution": {
     "iopub.execute_input": "2025-04-21T03:12:30.251096Z",
     "iopub.status.busy": "2025-04-21T03:12:30.250750Z",
     "iopub.status.idle": "2025-04-21T03:12:31.065650Z",
     "shell.execute_reply": "2025-04-21T03:12:31.064602Z"
    },
    "jupyter": {
     "outputs_hidden": false
    },
    "papermill": {
     "duration": 0.82069,
     "end_time": "2025-04-21T03:12:31.067253",
     "exception": false,
     "start_time": "2025-04-21T03:12:30.246563",
     "status": "completed"
    },
    "tags": []
   },
   "outputs": [
    {
     "name": "stdout",
     "output_type": "stream",
     "text": [
      "Submission saved!\n"
     ]
    }
   ],
   "source": [
    "# Random Forest\n",
    "from sklearn.ensemble import RandomForestClassifier\n",
    "\n",
    "model = RandomForestClassifier(n_estimators=100, max_depth=5, random_state=1)\n",
    "model.fit(X, y)\n",
    "y_pred = model.predict(X_test)\n",
    "\n",
    "output = pd.DataFrame({'PassengerId': test_data.PassengerId, 'Survived': y_pred})\n",
    "output.to_csv(\"submission.csv\", index=False)\n",
    "print(\"Submission saved!\")"
   ]
  }
 ],
 "metadata": {
  "kaggle": {
   "accelerator": "none",
   "dataSources": [
    {
     "databundleVersionId": 26502,
     "sourceId": 3136,
     "sourceType": "competition"
    }
   ],
   "dockerImageVersionId": 31012,
   "isGpuEnabled": false,
   "isInternetEnabled": true,
   "language": "python",
   "sourceType": "notebook"
  },
  "kernelspec": {
   "display_name": "Python 3",
   "language": "python",
   "name": "python3"
  },
  "language_info": {
   "codemirror_mode": {
    "name": "ipython",
    "version": 3
   },
   "file_extension": ".py",
   "mimetype": "text/x-python",
   "name": "python",
   "nbconvert_exporter": "python",
   "pygments_lexer": "ipython3",
   "version": "3.11.11"
  },
  "papermill": {
   "default_parameters": {},
   "duration": 10.915096,
   "end_time": "2025-04-21T03:12:31.790726",
   "environment_variables": {},
   "exception": null,
   "input_path": "__notebook__.ipynb",
   "output_path": "__notebook__.ipynb",
   "parameters": {},
   "start_time": "2025-04-21T03:12:20.875630",
   "version": "2.6.0"
  }
 },
 "nbformat": 4,
 "nbformat_minor": 5
}
